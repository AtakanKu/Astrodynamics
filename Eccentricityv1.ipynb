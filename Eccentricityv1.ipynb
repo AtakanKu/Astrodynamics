{
  "nbformat": 4,
  "nbformat_minor": 0,
  "metadata": {
    "colab": {
      "provenance": [],
      "authorship_tag": "ABX9TyMoYhUlaXl+X2ol1Ko8+S63",
      "include_colab_link": true
    },
    "kernelspec": {
      "name": "python3",
      "display_name": "Python 3"
    },
    "language_info": {
      "name": "python"
    }
  },
  "cells": [
    {
      "cell_type": "markdown",
      "metadata": {
        "id": "view-in-github",
        "colab_type": "text"
      },
      "source": [
        "<a href=\"https://colab.research.google.com/github/AtakanKu/Astrodynamics/blob/main/Eccentricityv1.ipynb\" target=\"_parent\"><img src=\"https://colab.research.google.com/assets/colab-badge.svg\" alt=\"Open In Colab\"/></a>"
      ]
    },
    {
      "cell_type": "markdown",
      "source": [
        "Calculates momentum, eccentricity and fundamental orbital angles from 3D r and v vectors."
      ],
      "metadata": {
        "id": "uFyrhVztOhau"
      }
    },
    {
      "cell_type": "code",
      "execution_count": 1,
      "metadata": {
        "id": "5_9rZW-wNzS_"
      },
      "outputs": [],
      "source": [
        "import numpy as np"
      ]
    },
    {
      "cell_type": "code",
      "source": [
        "#Constants\n",
        "mu_Earth = 398601.2 #km^3/s^2"
      ],
      "metadata": {
        "id": "JMB6NIE_PQnm"
      },
      "execution_count": 2,
      "outputs": []
    },
    {
      "cell_type": "code",
      "source": [
        "#Coordinate Vectors\n",
        "I = np.array([1,0,0])\n",
        "J = np.array([0,1,0])\n",
        "K = np.array([0,0,1])"
      ],
      "metadata": {
        "id": "WTbUJ4j6SXgy"
      },
      "execution_count": 3,
      "outputs": []
    },
    {
      "cell_type": "code",
      "source": [
        "ri = input(\"Enter position vector in km: eg. 1,2,3\")\n",
        "vi = input(\"Enter velocity vector in km/s: eg. 1,2,3\")"
      ],
      "metadata": {
        "id": "zIE75MuYfAIl",
        "colab": {
          "base_uri": "https://localhost:8080/"
        },
        "outputId": "ba322bbc-da21-473f-cd72-7824ef40707d"
      },
      "execution_count": 4,
      "outputs": [
        {
          "name": "stdout",
          "output_type": "stream",
          "text": [
            "Enter position vector in km: eg. 1,2,38.75,5.1,0\n",
            "Enter velocity vector in km/s: eg. 1,2,3-3,5.2,5.9\n"
          ]
        }
      ]
    },
    {
      "cell_type": "code",
      "source": [
        "r = np.array([8750,5100,0]) #km\n",
        "v = np.array([-3,5.2,5.9]) #km/s"
      ],
      "metadata": {
        "id": "V-fkjIjfOAyQ"
      },
      "execution_count": 5,
      "outputs": []
    },
    {
      "cell_type": "code",
      "source": [
        "#will need below to find eccentricity vector\n",
        "vmag = np.linalg.norm(v)\n",
        "rmag = np.linalg.norm(r)"
      ],
      "metadata": {
        "id": "HuYZRHmmQv-g"
      },
      "execution_count": 6,
      "outputs": []
    },
    {
      "cell_type": "code",
      "source": [
        "h = np.cross(r,v)\n",
        "hmag = np.linalg.norm(h)"
      ],
      "metadata": {
        "id": "DAlSzxDaO_gZ"
      },
      "execution_count": 7,
      "outputs": []
    },
    {
      "cell_type": "code",
      "source": [
        "p = (hmag*hmag)/mu_Earth #Semi-latus rectum"
      ],
      "metadata": {
        "id": "DTk3vlk6QOta"
      },
      "execution_count": 8,
      "outputs": []
    },
    {
      "cell_type": "code",
      "source": [
        "e = (1/mu_Earth)*((vmag*vmag-mu_Earth/rmag)*r-(np.dot(r,v))*v) #Eccentricity\n",
        "emag = np.linalg.norm(e)"
      ],
      "metadata": {
        "id": "gt4ncxtcQOLP"
      },
      "execution_count": 9,
      "outputs": []
    },
    {
      "cell_type": "code",
      "source": [
        "i = np.rad2deg(np.arccos((np.dot(h,K))/hmag)) #Inclination"
      ],
      "metadata": {
        "collapsed": true,
        "id": "_LHTDsm7SIoa"
      },
      "execution_count": 10,
      "outputs": []
    },
    {
      "cell_type": "code",
      "source": [
        "if (i<=0 and i<=90):\n",
        "  direction = \"direct/prograde\"\n",
        "elif (i<90 and i<= 180):\n",
        "  direction = \"retrograde\""
      ],
      "metadata": {
        "id": "1jBxd6LPsc6f"
      },
      "execution_count": 14,
      "outputs": []
    },
    {
      "cell_type": "code",
      "source": [
        "n = np.cross(K,h) #Ascending Node Vector\n",
        "nmag = np.linalg.norm(n)"
      ],
      "metadata": {
        "id": "41WoBPYiTRk9"
      },
      "execution_count": 16,
      "outputs": []
    },
    {
      "cell_type": "code",
      "source": [
        "capomega = np.rad2deg(np.arccos(np.dot(n,I)/nmag)) #Longitude of Ascending Node"
      ],
      "metadata": {
        "collapsed": true,
        "id": "Ug7P2YDjToVD"
      },
      "execution_count": 17,
      "outputs": []
    },
    {
      "cell_type": "code",
      "source": [
        "omega = np.rad2deg(np.arccos(np.dot(n,e)/(nmag*emag))) #Argument of Periapsis, Argument of Perigee (AoP) for a satellite around Earth\n",
        "if (e[2] < 0): omega = -omega #Reverse sign if k component of e is negative"
      ],
      "metadata": {
        "collapsed": true,
        "id": "oFsLq4WeUMsm"
      },
      "execution_count": 18,
      "outputs": []
    },
    {
      "cell_type": "code",
      "source": [
        "cappi = capomega+omega #Longitude of Perigee (LoP)\n",
        "#Note: LoP is used instead of AoP as an approximation\n",
        "#But this approximation is only correct when inclination is 0\n",
        "#and reasonable when it's very small."
      ],
      "metadata": {
        "id": "m2WMsp2dqEMz"
      },
      "execution_count": 19,
      "outputs": []
    },
    {
      "cell_type": "code",
      "source": [
        "v0 = np.rad2deg(np.arccos(np.dot(e,r)/(emag*rmag))) #True Anomaly"
      ],
      "metadata": {
        "collapsed": true,
        "id": "_3hulFT6WoOv"
      },
      "execution_count": 20,
      "outputs": []
    },
    {
      "cell_type": "code",
      "source": [
        "u0 = np.rad2deg(np.arccos(np.dot(n,r)/(nmag*rmag))) #Argument of Latitude at Epoch"
      ],
      "metadata": {
        "id": "zAIgcVEnZwK7"
      },
      "execution_count": 21,
      "outputs": []
    },
    {
      "cell_type": "code",
      "source": [
        "l0 = capomega+u0 #True Longitude at Epoch (TL@E)\n",
        "#Note: Like LoP correct only for a circular and equatorial orbit."
      ],
      "metadata": {
        "id": "wfpb_NcsrE3b"
      },
      "execution_count": 22,
      "outputs": []
    },
    {
      "cell_type": "code",
      "source": [
        "#Print Results\n",
        "print(\"Eccentricity:\\t\\t\\t\"+str(emag))\n",
        "print(\"Semi-latus Rectum:\\t\\t\"+str(p))\n",
        "print(\"Inclination:\\t\\t\\t\"+str(i))\n",
        "print(\"Longitude of Ascending Node:\\t\"+str(capomega))\n",
        "print(\"Argument of Periapsis \\u03A9:\\t\\t\"+str(omega))\n",
        "print(\"True Anomaly:\\t\\t\\t\"+str(v0))\n",
        "print(\"Argument of Latitude at Epoch\\t\"+str(u0))\n",
        "print(\"Approximation Variables:\")\n",
        "print(\"AoP:\\t\"+str(cappi))\n",
        "print(\"TL@E:\\t\"+str(l0))\n",
        "print(\"Direction of orbit:\\t\"+direction)"
      ],
      "metadata": {
        "colab": {
          "base_uri": "https://localhost:8080/"
        },
        "collapsed": true,
        "id": "YBRPBHptXAhW",
        "outputId": "3f006f40-3636-46b9-9fdf-ab44a2f96aa5"
      },
      "execution_count": 23,
      "outputs": [
        {
          "output_type": "stream",
          "name": "stdout",
          "text": [
            "Eccentricity:\t\t\t0.8001855323327286\n",
            "Semi-latus Rectum:\t\t18231.728165896136\n",
            "Inclination:\t\t\t44.50291228827129\n",
            "Longitude of Ascending Node:\t30.236076190856487\n",
            "Argument of Periapsis Ω:\t\t-0.40825219060885165\n",
            "True Anomaly:\t\t\t0.40825219060617335\n",
            "Argument of Latitude at Epoch\t0.0\n",
            "Approximation Variables:\n",
            "AoP:\t29.827824000247634\n",
            "TL@E:\t30.236076190856487\n",
            "Direction of orbit:\tretrograde\n"
          ]
        }
      ]
    }
  ]
}