{
  "nbformat": 4,
  "nbformat_minor": 0,
  "metadata": {
    "colab": {
      "provenance": [],
      "authorship_tag": "ABX9TyO4QpFmx80P38LKY1580qe4",
      "include_colab_link": true
    },
    "kernelspec": {
      "name": "python3",
      "display_name": "Python 3"
    },
    "language_info": {
      "name": "python"
    }
  },
  "cells": [
    {
      "cell_type": "markdown",
      "metadata": {
        "id": "view-in-github",
        "colab_type": "text"
      },
      "source": [
        "<a href=\"https://colab.research.google.com/github/AtakanKu/Astrodynamics/blob/main/Eccentricityv1.ipynb\" target=\"_parent\"><img src=\"https://colab.research.google.com/assets/colab-badge.svg\" alt=\"Open In Colab\"/></a>"
      ]
    },
    {
      "cell_type": "markdown",
      "source": [
        "Calculates momentum, eccentricity and fundamental orbital angles from 3D r and v vectors."
      ],
      "metadata": {
        "id": "uFyrhVztOhau"
      }
    },
    {
      "cell_type": "code",
      "execution_count": 1,
      "metadata": {
        "id": "5_9rZW-wNzS_"
      },
      "outputs": [],
      "source": [
        "import numpy as np"
      ]
    },
    {
      "cell_type": "code",
      "source": [
        "#Constants\n",
        "mu_Earth = 398601.2 #km^3/s^2"
      ],
      "metadata": {
        "id": "JMB6NIE_PQnm"
      },
      "execution_count": 3,
      "outputs": []
    },
    {
      "cell_type": "code",
      "source": [
        "#Coordinate Vectors\n",
        "I = np.array([1,0,0])\n",
        "J = np.array([0,1,0])\n",
        "K = np.array([0,0,1])"
      ],
      "metadata": {
        "id": "WTbUJ4j6SXgy"
      },
      "execution_count": 15,
      "outputs": []
    },
    {
      "cell_type": "code",
      "source": [
        "r = np.array([8750,5100,0]) #km\n",
        "v = np.array([-3,5.2,5.9]) #km/s"
      ],
      "metadata": {
        "id": "V-fkjIjfOAyQ"
      },
      "execution_count": 2,
      "outputs": []
    },
    {
      "cell_type": "code",
      "source": [
        "#will need below to find eccentricity vector\n",
        "vmag = np.linalg.norm(v)\n",
        "rmag = np.linalg.norm(r)"
      ],
      "metadata": {
        "id": "HuYZRHmmQv-g"
      },
      "execution_count": 9,
      "outputs": []
    },
    {
      "cell_type": "code",
      "source": [
        "h = np.cross(r,v)\n",
        "hmag = np.linalg.norm(h)"
      ],
      "metadata": {
        "id": "DAlSzxDaO_gZ"
      },
      "execution_count": 4,
      "outputs": []
    },
    {
      "cell_type": "code",
      "source": [
        "p = (hmag*hmag)/mu_Earth #Semi-latus rectum"
      ],
      "metadata": {
        "id": "DTk3vlk6QOta"
      },
      "execution_count": 30,
      "outputs": []
    },
    {
      "cell_type": "code",
      "source": [
        "e = (1/mu_Earth)*((vmag*vmag-mu_Earth/rmag)*r-(np.dot(r,v))*v) #Eccentricity\n",
        "emag = np.linalg.norm(e)"
      ],
      "metadata": {
        "id": "gt4ncxtcQOLP"
      },
      "execution_count": 13,
      "outputs": []
    },
    {
      "cell_type": "code",
      "source": [
        "print(e)"
      ],
      "metadata": {
        "colab": {
          "base_uri": "https://localhost:8080/"
        },
        "id": "HD-RdF8qRurH",
        "outputId": "8a595c66-eb6f-40a9-88ee-c13a90037c95"
      },
      "execution_count": 22,
      "outputs": [
        {
          "output_type": "stream",
          "name": "stdout",
          "text": [
            "[ 0.69335677  0.3994212  -0.00399648]\n"
          ]
        }
      ]
    },
    {
      "cell_type": "code",
      "source": [
        "i = np.rad2deg(np.arccos((np.dot(h,K))/hmag)) #Inclination\n",
        "print(i)"
      ],
      "metadata": {
        "colab": {
          "base_uri": "https://localhost:8080/"
        },
        "id": "_LHTDsm7SIoa",
        "outputId": "5c5edb64-35bb-4916-842f-0bc876c07637"
      },
      "execution_count": 17,
      "outputs": [
        {
          "output_type": "stream",
          "name": "stdout",
          "text": [
            "44.50291228827129\n"
          ]
        }
      ]
    },
    {
      "cell_type": "code",
      "source": [
        "n = np.cross(K,h) #Ascending Node Vector\n",
        "nmag = np.linalg.norm(n)"
      ],
      "metadata": {
        "id": "41WoBPYiTRk9"
      },
      "execution_count": 19,
      "outputs": []
    },
    {
      "cell_type": "code",
      "source": [
        "capomega = np.rad2deg(np.arccos(np.dot(n,I)/nmag)) #Longitude of Ascending Node\n",
        "print(capomega)"
      ],
      "metadata": {
        "colab": {
          "base_uri": "https://localhost:8080/"
        },
        "id": "Ug7P2YDjToVD",
        "outputId": "db0dcf49-bb39-4e57-eddb-9e2f2e0aef6a"
      },
      "execution_count": 35,
      "outputs": [
        {
          "output_type": "stream",
          "name": "stdout",
          "text": [
            "30.236076190856487\n"
          ]
        }
      ]
    },
    {
      "cell_type": "code",
      "source": [
        "omega = np.rad2deg(np.arccos(np.dot(n,e)/(nmag*emag))) #Periapsis\n",
        "if (e[2] < 0): omega = -omega #Reverse sign if k component of e is negative\n",
        "print(omega)"
      ],
      "metadata": {
        "colab": {
          "base_uri": "https://localhost:8080/"
        },
        "id": "oFsLq4WeUMsm",
        "outputId": "58518266-49d8-46e2-9913-114889bbde3b"
      },
      "execution_count": 26,
      "outputs": [
        {
          "output_type": "stream",
          "name": "stdout",
          "text": [
            "-0.40825219060885165\n"
          ]
        }
      ]
    },
    {
      "cell_type": "code",
      "source": [
        "v0 = np.rad2deg(np.arccos(np.dot(e,r)/(emag*rmag))) #True Anomaly\n",
        "print(v0)"
      ],
      "metadata": {
        "colab": {
          "base_uri": "https://localhost:8080/"
        },
        "id": "_3hulFT6WoOv",
        "outputId": "8fe0bc44-7da7-45f6-f6cb-4ae40931318c"
      },
      "execution_count": 27,
      "outputs": [
        {
          "output_type": "stream",
          "name": "stdout",
          "text": [
            "0.40825219060617335\n"
          ]
        }
      ]
    },
    {
      "cell_type": "code",
      "source": [
        "u0 = np.rad2deg(np.arccos(np.dot(n,r)/(nmag*rmag))) #Argument of Latitude at Epoch"
      ],
      "metadata": {
        "id": "zAIgcVEnZwK7"
      },
      "execution_count": 42,
      "outputs": []
    },
    {
      "cell_type": "code",
      "source": [
        "#Print Results\n",
        "print(\"Eccentricity:\\t\\t\\t\"+str(emag))\n",
        "print(\"Semi-latus Rectum:\\t\\t\"+str(p))\n",
        "print(\"Inclination:\\t\\t\\t\"+str(i))\n",
        "print(\"Longitude of Ascending Node:\\t\"+str(capomega))\n",
        "print(\"Argument of Periapsis:\\t\\t\"+str(omega))\n",
        "print(\"True Anomaly:\\t\\t\\t\"+str(v0))\n",
        "print(\"Argument of Latitude at Epoch\\t\"+str(u0))"
      ],
      "metadata": {
        "colab": {
          "base_uri": "https://localhost:8080/"
        },
        "id": "YBRPBHptXAhW",
        "outputId": "599e589c-b886-4289-a400-a74668e3662c"
      },
      "execution_count": 43,
      "outputs": [
        {
          "output_type": "stream",
          "name": "stdout",
          "text": [
            "Eccentricity:\t\t\t0.8001855323327286\n",
            "Semi-latus Rectum:\t\t18231.728165896136\n",
            "Inclination:\t\t\t44.50291228827129\n",
            "Longitude of Ascending Node:\t30.236076190856487\n",
            "Argument of Periapsis:\t\t-0.40825219060885165\n",
            "True Anomaly:\t\t\t0.40825219060617335\n",
            "Argument of Latitude at Epoch\t0.0\n"
          ]
        }
      ]
    }
  ]
}